{
 "cells": [
  {
   "cell_type": "code",
   "execution_count": 8,
   "id": "9c495811-534e-40bf-bf51-b836d1b78e47",
   "metadata": {},
   "outputs": [],
   "source": [
    "import numpy as np"
   ]
  },
  {
   "cell_type": "code",
   "execution_count": 9,
   "id": "acb35ace-dd0b-48dd-8385-f5026870fd65",
   "metadata": {},
   "outputs": [],
   "source": [
    "num = np.array((1,2,3,4))"
   ]
  },
  {
   "cell_type": "code",
   "execution_count": 10,
   "id": "60a5e714-7ee4-4554-96d7-5b74a7d8bf51",
   "metadata": {},
   "outputs": [
    {
     "name": "stdout",
     "output_type": "stream",
     "text": [
      "[1 2 3 4]\n"
     ]
    }
   ],
   "source": [
    "print(num)"
   ]
  },
  {
   "cell_type": "code",
   "execution_count": 17,
   "id": "6d8f5af7-6f73-4eae-bf9d-5d43e73611d5",
   "metadata": {},
   "outputs": [],
   "source": [
    "num2 = np.array([\"a\",\"b\",\"c\",\"d\"])"
   ]
  },
  {
   "cell_type": "code",
   "execution_count": 18,
   "id": "4529dd7f-15dd-4f35-9454-569452765839",
   "metadata": {},
   "outputs": [
    {
     "name": "stdout",
     "output_type": "stream",
     "text": [
      "['a' 'b' 'c' 'd']\n"
     ]
    }
   ],
   "source": [
    "print(num2)"
   ]
  },
  {
   "cell_type": "code",
   "execution_count": 24,
   "id": "f7d356c2-931c-4980-8d07-a2b621853292",
   "metadata": {},
   "outputs": [
    {
     "name": "stdout",
     "output_type": "stream",
     "text": [
      "1\n"
     ]
    }
   ],
   "source": [
    "num=np.array((1))\n",
    "print(num)"
   ]
  },
  {
   "cell_type": "code",
   "execution_count": 25,
   "id": "5aa469b4-5f4c-4885-a720-c8ae8a774922",
   "metadata": {},
   "outputs": [
    {
     "name": "stdout",
     "output_type": "stream",
     "text": [
      "0\n"
     ]
    }
   ],
   "source": [
    "print(num.ndim)"
   ]
  },
  {
   "cell_type": "code",
   "execution_count": 30,
   "id": "49ea7761-750e-4ba2-ac2f-cd2d4a2997ca",
   "metadata": {},
   "outputs": [],
   "source": [
    "num3=np.array(((1,2,3),(6,7,8)))"
   ]
  },
  {
   "cell_type": "code",
   "execution_count": 32,
   "id": "915ebe7c-73d6-40fd-9be7-398503724dc0",
   "metadata": {},
   "outputs": [
    {
     "name": "stdout",
     "output_type": "stream",
     "text": [
      "[[1 2 3]\n",
      " [6 7 8]]\n",
      "dimention=  2\n"
     ]
    }
   ],
   "source": [
    "print(num3)\n",
    "print(\"dimention= \",num3.ndim)"
   ]
  },
  {
   "cell_type": "code",
   "execution_count": null,
   "id": "6b5e8e71-b9be-429e-9be8-e1c7a6d73076",
   "metadata": {},
   "outputs": [],
   "source": [
    "#to intailize numpuy array\n",
    "# we have to use np.zeros() method "
   ]
  },
  {
   "cell_type": "code",
   "execution_count": 33,
   "id": "2c628368-2de1-4211-9129-8e88b71f5980",
   "metadata": {},
   "outputs": [
    {
     "name": "stdout",
     "output_type": "stream",
     "text": [
      "[[0. 0. 0.]\n",
      " [0. 0. 0.]]\n",
      "<class 'numpy.ndarray'>\n",
      "dimention=  2\n"
     ]
    }
   ],
   "source": [
    "intailize =np.zeros([2,3])\n",
    "print(intailize)\n",
    "print(type(intailize))\n",
    "print('dimention= ',intailize.ndim)"
   ]
  },
  {
   "cell_type": "code",
   "execution_count": 1,
   "id": "ce819eef-e3ab-43a3-b5a4-be27b10fe2ef",
   "metadata": {},
   "outputs": [
    {
     "name": "stdout",
     "output_type": "stream",
     "text": [
      "<U2\n"
     ]
    }
   ],
   "source": [
    "import numpy as np\n",
    "#to check its datatype of one array\n",
    "n =np.array([\"10\",\"20\",\"30\"])\n",
    "print(n.dtype)"
   ]
  },
  {
   "cell_type": "code",
   "execution_count": 2,
   "id": "4b31dede-7bac-430d-988e-bc8936afd3b3",
   "metadata": {},
   "outputs": [
    {
     "name": "stdout",
     "output_type": "stream",
     "text": [
      "[10 20 30]\n"
     ]
    }
   ],
   "source": [
    "#to convert to  another datatype\n",
    "n2=n.astype(\"i\")\n",
    "print(n2)"
   ]
  },
  {
   "cell_type": "code",
   "execution_count": null,
   "id": "58d6bb3a-36f2-4619-b4d3-7702e4151982",
   "metadata": {},
   "outputs": [],
   "source": []
  },
  {
   "cell_type": "code",
   "execution_count": 9,
   "id": "a42837c7-e53c-4094-a4b8-9046e2b96cbd",
   "metadata": {},
   "outputs": [
    {
     "name": "stdout",
     "output_type": "stream",
     "text": [
      "19\n"
     ]
    }
   ],
   "source": [
    "num =np.array([19,40,56,12])\n",
    "print(num[0])"
   ]
  },
  {
   "cell_type": "code",
   "execution_count": 10,
   "id": "2198e642-2798-4e0b-9db1-795cd057f2b5",
   "metadata": {},
   "outputs": [
    {
     "name": "stdout",
     "output_type": "stream",
     "text": [
      "12\n"
     ]
    }
   ],
   "source": [
    "print(num[-1])"
   ]
  },
  {
   "cell_type": "code",
   "execution_count": 11,
   "id": "f2cab8a3-370c-4b4e-aa9b-627580ef8d4f",
   "metadata": {},
   "outputs": [
    {
     "name": "stdout",
     "output_type": "stream",
     "text": [
      "56\n"
     ]
    }
   ],
   "source": [
    "print(num[2])"
   ]
  },
  {
   "cell_type": "code",
   "execution_count": 7,
   "id": "af702e24-a321-424c-9982-e17dfe3b2f45",
   "metadata": {},
   "outputs": [
    {
     "name": "stdout",
     "output_type": "stream",
     "text": [
      "10\n",
      "2\n"
     ]
    }
   ],
   "source": [
    "num1 = np.array([[10,20,30],[40,50,60],[70,80,90]])\n",
    "print(num1[0,0])\n",
    "print(num1.ndim)"
   ]
  },
  {
   "cell_type": "code",
   "execution_count": 9,
   "id": "cf043832-958b-4c20-8566-aea173376747",
   "metadata": {},
   "outputs": [
    {
     "name": "stdout",
     "output_type": "stream",
     "text": [
      "[[10 20 30]\n",
      " [40 50 60]\n",
      " [70 80 90]]\n"
     ]
    }
   ],
   "source": [
    "print(num1[:])"
   ]
  },
  {
   "cell_type": "code",
   "execution_count": 10,
   "id": "d0ec67c8-dbb4-4ab8-801a-94d38bf1c52f",
   "metadata": {
    "scrolled": true
   },
   "outputs": [
    {
     "name": "stdout",
     "output_type": "stream",
     "text": [
      "[array([[70, 80, 90],\n",
      "       [40, 50, 60],\n",
      "       [10, 20, 30]])]\n"
     ]
    }
   ],
   "source": [
    "print([num1[::-1]])"
   ]
  },
  {
   "cell_type": "code",
   "execution_count": 14,
   "id": "9cb3b2bc-b96f-4cd6-a257-af3f3d69c463",
   "metadata": {},
   "outputs": [],
   "source": [
    "n =np.array([0,1,2,3,4,5,6,7,8,11])"
   ]
  },
  {
   "cell_type": "code",
   "execution_count": 15,
   "id": "9ef2b94d-1b8c-45ee-9568-7e99a3180caf",
   "metadata": {},
   "outputs": [
    {
     "name": "stdout",
     "output_type": "stream",
     "text": [
      "[11  8  7  6  5  4  3  2  1  0]\n"
     ]
    }
   ],
   "source": [
    "print(n[::-1])"
   ]
  },
  {
   "cell_type": "code",
   "execution_count": 16,
   "id": "6154bafe-9ab0-4102-b81a-3fb154c3ba5c",
   "metadata": {},
   "outputs": [
    {
     "name": "stdout",
     "output_type": "stream",
     "text": [
      "[[10 20]\n",
      " [40 50]]\n"
     ]
    }
   ],
   "source": [
    "n=np.array([[10,20,30,],\n",
    "            [40,50,60]])\n",
    "print(n[0:2,0:2])"
   ]
  },
  {
   "cell_type": "code",
   "execution_count": 1,
   "id": "a90c31e5-224b-470e-b11c-64df8094ef76",
   "metadata": {},
   "outputs": [
    {
     "name": "stdout",
     "output_type": "stream",
     "text": [
      "[[ 7  8]\n",
      " [11 12]]\n"
     ]
    }
   ],
   "source": [
    "import numpy as np\n",
    "\n",
    "# Create a 3x4 array\n",
    "arr_2d = np.array([[1, 2, 3, 4],\n",
    "                   [5, 6, 7, 8],\n",
    "                   [9, 10, 11, 12]])\n",
    "print(arr_2d[1:3,2:4])"
   ]
  },
  {
   "cell_type": "code",
   "execution_count": 19,
   "id": "f94f70e4-a3d0-4cda-af41-e232a4a75bd5",
   "metadata": {},
   "outputs": [
    {
     "data": {
      "text/plain": [
       "(3, 4)"
      ]
     },
     "execution_count": 19,
     "metadata": {},
     "output_type": "execute_result"
    }
   ],
   "source": [
    "arr_2d.shape"
   ]
  },
  {
   "cell_type": "code",
   "execution_count": 2,
   "id": "326ac4b2-6429-4235-87b3-92e14a5fba3b",
   "metadata": {},
   "outputs": [
    {
     "name": "stdout",
     "output_type": "stream",
     "text": [
      "(0, 0) 1\n",
      "(0, 1) 2\n",
      "(0, 2) 3\n",
      "(0, 3) 4\n",
      "(1, 0) 5\n",
      "(1, 1) 6\n",
      "(1, 2) 7\n",
      "(1, 3) 8\n",
      "(2, 0) 9\n",
      "(2, 1) 10\n",
      "(2, 2) 11\n",
      "(2, 3) 12\n"
     ]
    }
   ],
   "source": [
    "for index, value in np.ndenumerate(arr_2d):\n",
    "    print(index,value)"
   ]
  },
  {
   "cell_type": "code",
   "execution_count": null,
   "id": "e326bdcc-edc0-4f39-9f81-8770ad6326a1",
   "metadata": {},
   "outputs": [],
   "source": []
  }
 ],
 "metadata": {
  "kernelspec": {
   "display_name": "Python 3 (ipykernel)",
   "language": "python",
   "name": "python3"
  },
  "language_info": {
   "codemirror_mode": {
    "name": "ipython",
    "version": 3
   },
   "file_extension": ".py",
   "mimetype": "text/x-python",
   "name": "python",
   "nbconvert_exporter": "python",
   "pygments_lexer": "ipython3",
   "version": "3.13.0"
  }
 },
 "nbformat": 4,
 "nbformat_minor": 5
}
